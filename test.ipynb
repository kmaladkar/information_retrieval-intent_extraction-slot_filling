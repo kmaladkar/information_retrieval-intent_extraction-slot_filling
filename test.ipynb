{
 "cells": [
  {
   "cell_type": "markdown",
   "metadata": {},
   "source": [
    "# COLX 563 Lab Assignment 4: Slot filling\n",
    "## Assignment Objectives\n",
    "\n",
    "In this lab, you will build an end-to-end system for basic (binary) intent recognition and slot filling in the context of a dialogue system. It is a team assignment, and you have nearly complete freedom with regards to your solution, with a few restrictions mentioned below. For this lab, you will work with your capstone team."
   ]
  },
  {
   "cell_type": "markdown",
   "metadata": {},
   "source": [
    "## Getting Started\n",
    "\n",
    "Add imports below."
   ]
  },
  {
   "cell_type": "code",
   "execution_count": 1,
   "metadata": {},
   "outputs": [],
   "source": [
    "#provided code\n",
    "from sklearn.metrics import accuracy_score"
   ]
  },
  {
   "cell_type": "markdown",
   "metadata": {},
   "source": [
    "For this lab, you'll be working with the MultiWOZ dataset of goal-oriented dialogues (2.2). You can look at the full corpus [here](https://github.com/budzianowski/multiwoz/tree/master/data/MultiWOZ_2.2). It has an impressively detailed annotation involving multiple turns and multiple goals which we have simplified to just the initiating request (first turn) and involving two possible intents and the corresponding slots for those intents. Download the data from [github](https://github.ubc.ca/jungyeul/COLX_563_adv-semantics_lab_students/raw/master/Multiwoz.zip), unzip it into a directory outside of your lab repo and change the path below."
   ]
  },
  {
   "cell_type": "code",
   "execution_count": 5,
   "metadata": {},
   "outputs": [],
   "source": [
    "#provided code\n",
    "woz_directory =\"data/\""
   ]
  },
  {
   "cell_type": "markdown",
   "metadata": {},
   "source": [
    "## Tidy Submission\n",
    "rubric={mechanics:1}\n",
    "\n",
    "To get the marks for tidy submission:\n",
    "- Submit the assignment by filling in this Jupyter notebook with your answers embedded\n",
    "- Be sure to follow the instructions"
   ]
  },
  {
   "cell_type": "markdown",
   "metadata": {},
   "source": [
    "## Inspecting the data\n",
    "\n",
    "Let's look at corresponding pairs of utterances and answers from the training portion of our corpus"
   ]
  },
  {
   "cell_type": "code",
   "execution_count": 9,
   "metadata": {
    "scrolled": true
   },
   "outputs": [
    {
     "name": "stdout",
     "output_type": "stream",
     "text": [
      "Guten Tag, I am staying overnight in Cambridge and need a place to sleep. I need free parking and internet.\n",
      "find_hotel|hotel-area=centre|hotel-internet=yes|hotel-parking=yes\n",
      "------\n",
      "Hi there! Can you give me some info on Cityroomz?\n",
      "find_hotel|hotel-name=cityroomz\n",
      "------\n",
      "I am looking for a hotel named alyesbray lodge guest house.\n",
      "find_hotel|hotel-name=alyesbray lodge guest house\n",
      "------\n",
      "I am looking for a restaurant. I would like something cheap that has Chinese food.\n",
      "find_restaurant|restaurant-food=chinese|restaurant-pricerange=cheap\n",
      "------\n",
      "I'm looking for an expensive restaurant in the centre if you could help me.\n",
      "find_restaurant|restaurant-area=centre|restaurant-pricerange=expensive\n",
      "------\n",
      "I'm looking for a places to go and see during my upcoming trip to Cambridge.\n",
      "find_hotel\n",
      "------\n",
      "Yeah, could you recommend a good gastropub?\n",
      "find_restaurant|restaurant-food=gastropub\n",
      "------\n",
      "I want to find an expensive restaurant and serves european food. Can i also have the address, phone number and its area. ?\n",
      "find_restaurant|restaurant-food=european|restaurant-pricerange=expensive\n",
      "------\n",
      "Where's a good place to eat crossover food in Cambridge?\n",
      "find_restaurant|restaurant-food=crossover\n",
      "------\n",
      "I need a place to stay that has free wifi.\n",
      "find_hotel|hotel-internet=yes\n",
      "------\n",
      "I am looking for a restaurant that is in the expensive price range and in the south part of town.\n",
      "find_restaurant|restaurant-area=south|restaurant-pricerange=expensive\n",
      "------\n",
      "Can you help me find an expensive Chinese food restaurant?\n",
      "find_restaurant|restaurant-food=chinese|restaurant-pricerange=expensive\n",
      "------\n",
      "I'm looking to go to dinner tonight and am in the mood for some good Bistro in the centre of town, can you find me some options?\n",
      "find_restaurant|restaurant-area=centre|restaurant-food=bistro\n",
      "------\n",
      "I am looking for a particular restaurant. Its name is called travellers rest\n",
      "find_restaurant|restaurant-name=travellers rest\n",
      "------\n",
      "Heya, can you find me an expensive restaurant with north african food?\n",
      "find_restaurant|restaurant-food=african|restaurant-pricerange=expensive\n",
      "------\n",
      "I am looking for a restaurant.\n",
      "find_restaurant\n",
      "------\n",
      "I am looking for a high priced hotel in the north side of town\n",
      "find_hotel|hotel-area=north|hotel-pricerange=expensive\n",
      "------\n",
      "Hi, what can you tell me about the bangkok city restaurant?\n",
      "find_restaurant|restaurant-name=bangkok city\n",
      "------\n",
      "I'm looking for a hotel, can you help?\n",
      "find_hotel|hotel-type=hotel\n",
      "------\n",
      "Please find me a place to dine that's expensive and in the centre.\n",
      "find_restaurant|restaurant-area=centre|restaurant-pricerange=expensive\n",
      "------\n"
     ]
    }
   ],
   "source": [
    "count = 0\n",
    "with open(woz_directory + \"WOZ_train_utt.txt\") as f1:\n",
    "    with open(woz_directory + \"WOZ_train_ans.txt\") as f2:\n",
    "        while count < 20:\n",
    "            print(f1.readline().strip())\n",
    "            print(f2.readline().strip())\n",
    "            print(\"------\")\n",
    "            count += 1"
   ]
  },
  {
   "cell_type": "markdown",
   "metadata": {},
   "source": [
    "The utterances consists of a request for information about either hotels or restaurants. The first part of the answer starts with the intent (either find_restaurant or find_hotel) and then lists the slots that have been filled in based on the utterance. Your goal is to generate this string of intents and slots based purely on the utterance. A few things to note:\n",
    "\n",
    "* Not all slots are filled in, and sometimes there are no slots filled in at all (but there is always an intent).\n",
    "* There are a fixed number of slots for each intent, and they always appear in a particular order, when they are filled in\n",
    "* The slot values sometimes but do not always correspond to what appears in the utterance. For example, a mention of wanting wifi in the request becomes hotel-internet=yes.\n",
    "\n",
    "We will be evaluating based on exact duplication of the entire output string, so before you start coding a solution, you should look carefully at examples in the training set and make sure you understand all the different components of the output, and how they related to the input utterance. In particular, you should identify the various constituent parts of the task, and judge which are likely to be easy, and which are likely to be more difficult."
   ]
  },
  {
   "cell_type": "markdown",
   "metadata": {},
   "source": [
    "## Solution\n",
    "rubric={accuracy:10,quality:5,efficiency:3}\n",
    "\n",
    "You will build a system that, when provided with an utterance, predicts the appropriate intent and slots in the format used in the provided answers. This is an open-ended problem and you may solve it however you like, with the following restrictions:\n",
    "\n",
    "* Your solution should include at least one of token-level prediction models used in Labs 1-3 of this course, i.e. you should make use of a CRF, an LSTM, or a BERT model. You may use multiple models.\n",
    "* You may use basic NLP tools (tokenizer, POS, parser) and unsupervised resources such as word embeddings, but you should NOT use an existing NER system, or any additional labeled data for this task.\n",
    "* Your solution should be appropriately decomposed into parts, and documented. This is a complex enough problem that you should have several functions. You may wrap things up into a single class if you like, but you don't have to.\n",
    "* Use the provided assert to test `dev_predicted`, the output of your complete model on the dev set, you will need to pass the assert to get full accuracy points. \n",
    "* Though you may use dev *accuracy* to guide the development of your model, you should not look at either utterances or answers for the dev (or the test) when developing your model. Limit your inspection of the data (e.g. for the purposes of error analysis) to the training set.\n",
    "\n",
    "Other things to consider:\n",
    "\n",
    "* You may want to build \"standard\" (non-sequential) ML classifiers for some aspects of this problem, but you don't have to!\n",
    "* You may want to use appropriate lexicons. You can build them yourself, or find some.\n",
    "* Rather than using statistical classifiers, you may want to use rule-based methods to solve some of the problems you're facing.\n",
    "* You should probably do regular error analysis, some kind of crossvalidation in the training set is a good approach for this, or you can create another (inspectable) internal dev set by splitting up the training set.\n",
    "* If you're looking for just a little bit more performance, don't forget to tune your hyperparameters!"
   ]
  },
  {
   "cell_type": "markdown",
   "metadata": {},
   "source": [
    "## Report\n",
    "rubric={raw:2,reasoning:3,writing:1}\n",
    "\n",
    "Describe your system, and discuss what your thinking about particular choices and any experiments you tried. Please talk about things you tried but didn't work, or things you thought of doing but didn't. Finally, discuss how each group member contributed to the project. As usual, there is an expectation that every group member will have made some significant contribution to the project. "
   ]
  },
  {
   "cell_type": "markdown",
   "metadata": {},
   "source": [
    "## Submit to Kaggle \n",
    "rubric={accuracy:2}\n",
    "\n",
    "Run your system over the test data, and submit the result (in the same format as the train/dev answers) to the Kaggle competition. The competition is hosted [here](https://www.kaggle.com/c/mds-cl-2020-21-colx-563-lab-assignment-4). To get full points, you need to beat the public baseline. Use your capstone partner as your team name please!\n"
   ]
  },
  {
   "cell_type": "markdown",
   "metadata": {},
   "source": [
    "## Exercise: Kaggle competition (Optional)\n",
    "rubric={raw:2}\n",
    "\n",
    "As a team, compete to get the best result in the task. Since there are only 8 teams, the distribution of marks is a bit different than usual, only the top 3 groups will get bonus points. As usual, the rankings will be based on the score on the private leaderboard:\n",
    "\n",
    "\n",
    "- 1st place: 2\n",
    "- 2nd place: 1\n",
    "- 3rd place: 0.5"
   ]
  }
 ],
 "metadata": {
  "kernelspec": {
   "display_name": "Python [conda env:ubcmds]",
   "language": "python",
   "name": "conda-env-ubcmds-py"
  },
  "language_info": {
   "codemirror_mode": {
    "name": "ipython",
    "version": 3
   },
   "file_extension": ".py",
   "mimetype": "text/x-python",
   "name": "python",
   "nbconvert_exporter": "python",
   "pygments_lexer": "ipython3",
   "version": "3.8.8"
  }
 },
 "nbformat": 4,
 "nbformat_minor": 4
}
